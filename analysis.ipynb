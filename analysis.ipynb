{
 "cells": [
  {
   "cell_type": "markdown",
   "metadata": {},
   "source": [
    "# YouTube Trending Videos Analysis\n",
    "\n",
    "This notebook analyzes YouTube trending video data to identify patterns and insights about content performance, publishing strategies, and audience preferences."
   ]
  },
  {
   "cell_type": "markdown",
   "metadata": {},
   "source": [
    "## Import Libraries"
   ]
  },
  {
   "cell_type": "code",
   "execution_count": null,
   "metadata": {},
   "outputs": [],
   "source": [
    "# Data manipulation\n",
    "import pandas as pd\n",
    "import numpy as np\n",
    "from datetime import datetime\n",
    "import re\n",
    "from collections import Counter\n",
    "\n",
    "# Visualization\n",
    "import matplotlib.pyplot as plt\n",
    "import seaborn as sns\n",
    "from wordcloud import WordCloud\n",
    "\n",
    "# Set styling\n",
    "plt.style.use('fivethirtyeight')\n",
    "sns.set_palette('viridis')\n",
    "%matplotlib inline\n",
    "plt.rcParams['figure.figsize'] = (12, 8)\n",
    "plt.rcParams['figure.dpi'] = 100"
   ]
  },
  {
   "cell_type": "markdown",
   "metadata": {},
   "source": [
    "## Load and Prepare the Data"
   ]
  },
  {
   "cell_type": "code",
   "execution_count": null,
   "metadata": {},
   "outputs": [],
   "source": [
    "# Load the data\n",
    "df = pd.read_csv('Data.csv')\n",
    "\n",
    "# Display basic information\n",
    "print(f\"Dataset shape: {df.shape}\")\n",
    "df.info()"
   ]
  },
  {
   "cell_type": "code",
   "execution_count": null,
   "metadata": {},
   "outputs": [],
   "source": [
    "# Preview the data\n",
    "df.head()"
   ]
  },
  {
   "cell_type": "code",
   "execution_count": null,
   "metadata": {},
   "outputs": [],
   "source": [
    "# Check for missing values\n",
    "missing_values = df.isnull().sum()\n",
    "missing_percentage = (missing_values / len(df)) * 100\n",
    "\n",
    "missing_df = pd.DataFrame({\n",
    "    'Missing Values': missing_values,\n",
    "    'Percentage': missing_percentage\n",
    "})\n",
    "\n",
    "print(\"Missing values in each column:\")\n",
    "missing_df"
   ]
  },
  {
   "cell_type": "code",
   "execution_count": null,
   "metadata": {},
   "outputs": [],
   "source": [
    "# Convert Publication Date to datetime\n",
    "df['Publication Date'] = pd.to_datetime(df['Publication Date'])\n",
    "\n",
    "# Create additional date features\n",
    "df['Day of Week'] = df['Publication Date'].dt.day_name()\n",
    "df['Month'] = df['Publication Date'].dt.month_name()\n",
    "df['Year'] = df['Publication Date'].dt.year\n",
    "\n",
    "# Convert Duration to minutes for better readability\n",
    "df['Duration (min)'] = df['Duration'] / 60\n",
    "\n",
    "# Create a duration category column\n",
    "def duration_category(seconds):\n",
    "    if seconds < 60:\n",
    "        return '< 1 min'\n",
    "    elif seconds < 180:\n",
    "        return '1-3 mins'\n",
    "    elif seconds < 300:\n",
    "        return '3-5 mins'\n",
    "    elif seconds < 600:\n",
    "        return '5-10 mins'\n",
    "    elif seconds < 900:\n",
    "        return '10-15 mins'\n",
    "    else:\n",
    "        return '15+ mins'\n",
    "\n",
    "df['Duration Category'] = df['Duration'].apply(duration_category)\n",
    "\n",
    "# Create a view count category column\n",
    "def view_category(views):\n",
    "    if views < 10000:\n",
    "        return '< 10K'\n",
    "    elif views < 100000:\n",
    "        return '10K-100K'\n",
    "    elif views < 500000:\n",
    "        return '100K-500K'\n",
    "    elif views < 1000000:\n",
    "        return '500K-1M'\n",
    "    elif views < 5000000:\n",
    "        return '1M-5M'\n",
    "    elif views < 10000000:\n",
    "        return '5M-10M'\n",
    "    else:\n",
    "        return '10M+'\n",
    "\n",
    "df['View Category'] = df['Views'].apply(view_category)"
   ]
  },
  {
   "cell_type": "markdown",
   "metadata": {},
   "source": [
    "## Basic Statistics"
   ]
  },
  {
   "cell_type": "code",
   "execution_count": null,
   "metadata": {},
   "outputs": [],
   "source": [
    "# Calculate basic view statistics\n",
    "view_stats = {\n",
    "    'Total Views': df['Views'].sum(),\n",
    "    'Average Views': df['Views'].mean(),\n",
    "    'Median Views': df['Views'].median(),\n",
    "    'Min Views': df['Views'].min(),\n",
    "    'Max Views': df['Views'].max()\n",
    "}\n",
    "\n",
    "for stat, value in view_stats.items():\n",
    "    if stat == 'Total Views':\n",
    "        print(f\"{stat}: {value:,.0f}\")\n",
    "    else:\n",
    "        print(f\"{stat}: {value:,.0f}\")"
   ]
  },
  {
   "cell_type": "code",
   "execution_count": null,
   "metadata": {},
   "outputs": [],
   "source": [
    "# Calculate basic duration statistics\n",
    "duration_stats = {\n",
    "    'Average Duration (seconds)': df['Duration'].mean(),\n",
    "    'Median Duration (seconds)': df['Duration'].median(),\n",
    "    'Min Duration (seconds)': df['Duration'].min(),\n",
    "    'Max Duration (seconds)': df['Duration'].max(),\n",
    "    'Average Duration (minutes)': df['Duration (min)'].mean(),\n",
    "    'Median Duration (minutes)': df['Duration (min)'].median()\n",
    "}\n",
    "\n",
    "for stat, value in duration_stats.items():\n",
    "    print(f\"{stat}: {value:.2f}\")"
   ]
  },
  {
   "cell_type": "markdown",
   "metadata": {},
   "source": [
    "## Channel Analysis"
   ]
  },
  {
   "cell_type": "code",
   "execution_count": null,
   "metadata": {},
   "outputs": [],
   "source": [
    "# Top 15 most frequent channels\n",
    "top_channels = df['Channel Name'].value_counts().head(15)\n",
    "plt.figure(figsize=(14, 8))\n",
    "ax = sns.barplot(x=top_channels.values, y=top_channels.index)\n",
    "plt.title('Top 15 Channels by Number of Trending Videos', fontsize=16)\n",
    "plt.xlabel('Number of Videos', fontsize=14)\n",
    "plt.ylabel('Channel Name', fontsize=14)\n",
    "\n",
    "# Add count labels to the bars\n",
    "for i, v in enumerate(top_channels.values):\n",
    "    ax.text(v + 0.5, i, str(v), va='center')\n",
    "\n",
    "plt.tight_layout()\n",
    "plt.show()"
   ]
  },
  {
   "cell_type": "code",
   "execution_count": null,
   "metadata": {},
   "outputs": [],
   "source": [
    "# Top 10 channels by total views\n",
    "channel_views = df.groupby('Channel Name')['Views'].sum().sort_values(ascending=False).head(10)\n",
    "plt.figure(figsize=(14, 8))\n",
    "ax = sns.barplot(x=channel_views.values, y=channel_views.index)\n",
    "plt.title('Top 10 Channels by Total Views', fontsize=16)\n",
    "plt.xlabel('Total Views', fontsize=14)\n",
    "plt.ylabel('Channel Name', fontsize=14)\n",
    "\n",
    "# Add formatted view count labels\n",
    "for i, v in enumerate(channel_views.values):\n",
    "    ax.text(v + 1e6, i, f\"{v:,.0f}\", va='center')\n",
    "\n",
    "plt.tight_layout()\n",
    "plt.show()"
   ]
  },
  {
   "cell_type": "markdown",
   "metadata": {},
   "source": [
    "## Content Analysis"
   ]
  },
  {
   "cell_type": "code",
   "execution_count": null,
   "metadata": {},
   "outputs": [],
   "source": [
    "# Analyze the most common words in video titles\n",
    "def extract_words(title):\n",
    "    if isinstance(title, str):\n",
    "        # Convert to lowercase, remove punctuation, and split by whitespace\n",
    "        words = re.findall(r'\\w+', title.lower())\n",
    "        # Filter out short words (typically less informative)\n",
    "        return [word for word in words if len(word) > 3]\n",
    "    return []\n",
    "\n",
    "# Create a list of all words in titles\n",
    "all_words = []\n",
    "for title in df['Title']:\n",
    "    all_words.extend(extract_words(title))\n",
    "\n",
    "# Count word frequencies\n",
    "word_counts = Counter(all_words)\n",
    "\n",
    "# Common English stop words to exclude\n",
    "stop_words = {'that', 'this', 'with', 'from', 'have', 'what', 'will', 'your', 'when', 'they', 'just', 'like'}\n",
    "\n",
    "# Filter out stop words\n",
    "filtered_word_counts = {word: count for word, count in word_counts.items() if word not in stop_words}\n",
    "\n",
    "# Get the top 20 words\n",
    "top_words = pd.Series(filtered_word_counts).sort_values(ascending=False).head(20)\n",
    "\n",
    "plt.figure(figsize=(14, 8))\n",
    "ax = sns.barplot(x=top_words.values, y=top_words.index)\n",
    "plt.title('Top 20 Words in Trending Video Titles', fontsize=16)\n",
    "plt.xlabel('Frequency', fontsize=14)\n",
    "plt.ylabel('Word', fontsize=14)\n",
    "\n",
    "# Add count labels\n",
    "for i, v in enumerate(top_words.values):\n",
    "    ax.text(v + 5, i, str(v), va='center')\n",
    "\n",
    "plt.tight_layout()\n",
    "plt.show()"
   ]
  },
  {
   "cell_type": "code",
   "execution_count": null,
   "metadata": {},
   "outputs": [],
   "source": [
    "# Create a word cloud of title words\n",
    "plt.figure(figsize=(14, 10))\n",
    "wordcloud = WordCloud(width=800, height=400, background_color='white', \n",
    "                      max_words=100, colormap='viridis',\n",
    "                      contour_width=1, contour_color='steelblue').generate_from_frequencies(filtered_word_counts)\n",
    "\n",
    "plt.imshow(wordcloud, interpolation='bilinear')\n",
    "plt.axis('off')\n",
    "plt.title('Word Cloud of Trending Video Titles', fontsize=20)\n",
    "plt.tight_layout()\n",
    "plt.show()"
   ]
  },
  {
   "cell_type": "code",
   "execution_count": null,
   "metadata": {},
   "outputs": [],
   "source": [
    "# Categorize videos based on title keywords\n",
    "def categorize_video(title):\n",
    "    if not isinstance(title, str):\n",
    "        return 'Unknown'\n",
    "    \n",
    "    title = title.lower()\n",
    "    \n",
    "    if any(word in title for word in ['music', 'song', 'official', 'audio', 'video', 'lyric', 'remix', 'ft.', 'feat']):\n",
    "        return 'Music'\n",
    "    elif any(word in title for word in ['game', 'gaming', 'minecraft', 'fortnite', 'roblox', 'gameplay']):\n",
    "        return 'Gaming'\n",
    "    elif any(word in title for word in ['trailer', 'movie', 'film', 'series', 'netflix', 'show', 'season', 'episode']):\n",
    "        return 'Movie/TV'\n",
    "    elif any(word in title for word in ['football', 'basketball', 'nba', 'nfl', 'sport', 'match', 'highlights']):\n",
    "        return 'Sports'\n",
    "    elif any(word in title for word in ['tech', 'iphone', 'samsung', 'review', 'unboxing', 'apple']):\n",
    "        return 'Tech'\n",
    "    elif any(word in title for word in ['news', 'politics', 'president', 'election', 'debate']):\n",
    "        return 'News/Politics'\n",
    "    else:\n",
    "        return 'Other'\n",
    "\n",
    "df['Category'] = df['Title'].apply(categorize_video)\n",
    "\n",
    "# Plot category distribution\n",
    "category_counts = df['Category'].value_counts()\n",
    "plt.figure(figsize=(12, 8))\n",
    "ax = sns.barplot(x=category_counts.index, y=category_counts.values, palette='viridis')\n",
    "plt.title('Video Categories Based on Title Analysis', fontsize=16)\n",
    "plt.xlabel('Category', fontsize=14)\n",
    "plt.ylabel('Number of Videos', fontsize=14)\n",
    "plt.xticks(rotation=45)\n",
    "\n",
    "# Add count labels\n",
    "for i, v in enumerate(category_counts.values):\n",
    "    ax.text(i, v + 10, str(v), ha='center')\n",
    "\n",
    "plt.tight_layout()\n",
    "plt.show()"
   ]
  },
  {
   "cell_type": "markdown",
   "metadata": {},
   "source": [
    "## Time-Based Analysis"
   ]
  },
  {
   "cell_type": "code",
   "execution_count": null,
   "metadata": {},
   "outputs": [],
   "source": [
    "# Day of week distribution\n",
    "day_order = ['Monday', 'Tuesday', 'Wednesday', 'Thursday', 'Friday', 'Saturday', 'Sunday']\n",
    "day_counts = df['Day of Week'].value_counts().reindex(day_order)\n",
    "\n",
    "plt.figure(figsize=(12, 8))\n",
    "ax = sns.barplot(x=day_counts.index, y=day_counts.values, palette='viridis')\n",
    "plt.title('Distribution of Trending Videos by Day of Week', fontsize=16)\n",
    "plt.xlabel('Day of Week', fontsize=14)\n",
    "plt.ylabel('Number of Videos', fontsize=14)\n",
    "\n",
    "# Add count labels\n",
    "for i, v in enumerate(day_counts.values):\n",
    "    ax.text(i, v + 5, str(v), ha='center')\n",
    "\n",
    "plt.tight_layout()\n",
    "plt.show()"
   ]
  },
  {
   "cell_type": "code",
   "execution_count": null,
   "metadata": {},
   "outputs": [],
   "source": [
    "# Month distribution\n",
    "month_counts = df['Month'].value_counts()\n",
    "plt.figure(figsize=(10, 6))\n",
    "ax = sns.barplot(x=month_counts.index, y=month_counts.values, palette='viridis')\n",
    "plt.title('Distribution of Trending Videos by Month', fontsize=16)\n",
    "plt.xlabel('Month', fontsize=14)\n",
    "plt.ylabel('Number of Videos', fontsize=14)\n",
    "\n",
    "# Add count labels\n",
    "for i, v in enumerate(month_counts.values):\n",
    "    ax.text(i, v + 20, str(v), ha='center')\n",
    "\n",
    "plt.tight_layout()\n",
    "plt.show()"
   ]
  },
  {
   "cell_type": "code",
   "execution_count": null,
   "metadata": {},
   "outputs": [],
   "source": [
    "# Analyze day of week by average views\n",
    "day_avg_views = df.groupby('Day of Week')['Views'].mean().reindex(day_order)\n",
    "plt.figure(figsize=(12, 6))\n",
    "ax = sns.barplot(x=day_avg_views.index, y=day_avg_views.values, palette='viridis')\n",
    "plt.title('Average Views by Day of Week', fontsize=16)\n",
    "plt.xlabel('Day of Week', fontsize=14)\n",
    "plt.ylabel('Average Views', fontsize=14)\n",
    "plt.ticklabel_format(style='plain', axis='y')\n",
    "\n",
    "# Add formatted view count labels\n",
    "for i, v in enumerate(day_avg_views.values):\n",
    "    ax.text(i, v + 100000, f\"{v:,.0f}\", ha='center')\n",
    "\n",
    "plt.tight_layout()\n",
    "plt.show()"
   ]
  },
  {
   "cell_type": "markdown",
   "metadata": {},
   "source": [
    "## Duration Analysis"
   ]
  },
  {
   "cell_type": "code",
   "execution_count": null,
   "metadata": {},
   "outputs": [],
   "source": [
    "# Distribution of video duration categories\n",
    "duration_order = ['< 1 min', '1-3 mins', '3-5 mins', '5-10 mins', '10-15 mins', '15+ mins']\n",
    "duration_counts = df['Duration Category'].value_counts().reindex(duration_order)\n",
    "\n",
    "plt.figure(figsize=(12, 6))\n",
    "ax = sns.barplot(x=duration_counts.index, y=duration_counts.values, palette='viridis')\n",
    "plt.title('Distribution of Video Durations', fontsize=16)\n",
    "plt.xlabel('Duration Category', fontsize=14)\n",
    "plt.ylabel('Number of Videos', fontsize=14)\n",
    "\n",
    "# Add count labels\n",
    "for i, v in enumerate(duration_counts.values):\n",
    "    ax.text(i, v + 10, str(v), ha='center')\n",
    "\n",
    "plt.tight_layout()\n",
    "plt.show()"
   ]
  },
  {
   "cell_type": "code",
   "execution_count": null,
   "metadata": {},
   "outputs": [],
   "source": [
    "# Average views by duration category\n",
    "duration_avg_views = df.groupby('Duration Category')['Views'].mean().reindex(duration_order)\n",
    "plt.figure(figsize=(12, 6))\n",
    "ax = sns.barplot(x=duration_avg_views.index, y=duration_avg_views.values, palette='viridis')\n",
    "plt.title('Average Views by Video Duration', fontsize=16)\n",
    "plt.xlabel('Duration Category', fontsize=14)\n",
    "plt.ylabel('Average Views', fontsize=14)\n",
    "plt.ticklabel_format(style='plain', axis='y')\n",
    "\n",
    "# Add formatted view count labels\n",
    "for i, v in enumerate(duration_avg_views.values):\n",
    "    ax.text(i, v + 100000, f\"{v:,.0f}\", ha='center')\n",
    "\n",
    "plt.tight_layout()\n",
    "plt.show()"
   ]
  },
  {
   "cell_type": "code",
   "execution_count": null,
   "metadata": {},
   "outputs": [],
   "source": [
    "# Scatter plot of duration vs. views\n",
    "plt.figure(figsize=(14, 8))\n",
    "sns.scatterplot(x='Duration (min)', y='Views', data=df, alpha=0.6, s=100)\n",
    "plt.title('Video Duration vs. Views', fontsize=16)\n",
    "plt.xlabel('Duration (minutes)', fontsize=14)\n",
    "plt.ylabel('Views', fontsize=14)\n",
    "plt.yscale('log')  # Log scale for better visualization\n",
    "plt.grid(True, alpha=0.3)\n",
    "plt.tight_layout()\n",
    "plt.show()\n",
    "\n",
    "# Calculate correlation between duration and views\n",
    "correlation = df['Duration'].corr(df['Views'])\n",
    "print(f\"Correlation between video duration and views: {correlation:.4f}\")"
   ]
  },
  {
   "cell_type": "markdown",
   "metadata": {},
   "source": [
    "## View Count Distribution"
   ]
  },
  {
   "cell_type": "code",
   "execution_count": null,
   "metadata": {},
   "outputs": [],
   "source": [
    "# Distribution of view count categories\n",
    "view_order = ['< 10K', '10K-100K', '100K-500K', '500K-1M', '1M-5M', '5M-10M', '10M+']\n",
    "view_counts = df['View Category'].value_counts().reindex(view_order)\n",
    "\n",
    "plt.figure(figsize=(14, 8))\n",
    "ax = sns.barplot(x=view_counts.index, y=view_counts.values, palette='viridis')\n",
    "plt.title('Distribution of Video View Counts', fontsize=16)\n",
    "plt.xlabel('View Count Category', fontsize=14)\n",
    "plt.ylabel('Number of Videos', fontsize=14)\n",
    "\n",
    "# Add count labels\n",
    "for i, v in enumerate(view_counts.values):\n",
    "    ax.text(i, v + 10, str(v), ha='center')\n",
    "\n",
    "plt.tight_layout()\n",
    "plt.show()"
   ]
  },
  {
   "cell_type": "code",
   "execution_count": null,
   "metadata": {},
   "outputs": [],
   "source": [
    "# Histogram of view counts (log scale)\n",
    "plt.figure(figsize=(14, 8))\n",
    "sns.histplot(df['Views'], bins=30, log_scale=(False, True), kde=False)\n",
    "plt.title('Distribution of Video View Counts (Log Scale)', fontsize=16)\n",
    "plt.xlabel('Views', fontsize=14)\n",
    "plt.ylabel('Number of Videos', fontsize=14)\n",
    "plt.grid(True, alpha=0.3)\n",
    "plt.tight_layout()\n",
    "plt.show()"
   ]
  },
  {
   "cell_type": "markdown",
   "metadata": {},
   "source": [
    "## Cross Category Analysis"
   ]
  },
  {
   "cell_type": "code",
   "execution_count": null,
   "metadata": {},
   "outputs": [],
   "source": [
    "# Average views by content category\n",
    "category_avg_views = df.groupby('Category')['Views'].mean().sort_values(ascending=False)\n",
    "plt.figure(figsize=(14, 8))\n",
    "ax = sns.barplot(x=category_avg_views.index, y=category_avg_views.values, palette='viridis')\n",
    "plt.title('Average Views by Content Category', fontsize=16)\n",
    "plt.xlabel('Category', fontsize=14)\n",
    "plt.ylabel('Average Views', fontsize=14)\n",
    "plt.xticks(rotation=45)\n",
    "plt.ticklabel_format(style='plain', axis='y')\n",
    "\n",
    "# Add formatted view count labels\n",
    "for i, v in enumerate(category_avg_views.values):\n",
    "    ax.text(i, v + 100000, f\"{v:,.0f}\", ha='center')\n",
    "\n",
    "plt.tight_layout()\n",
    "plt.show()"
   ]
  },
  {
   "cell_type": "code",
   "execution_count": null,
   "metadata": {},
   "outputs": [],
   "source": [
    "# Distribution of categories by day of week\n",
    "category_day_counts = pd.crosstab(df['Category'], df['Day of Week'])\n",
    "category_day_pct = category_day_counts.div(category_day_counts.sum(axis=1), axis=0)\n",
    "\n",
    "plt.figure(figsize=(16, 10))\n",
    "sns.heatmap(category_day_pct, annot=True, cmap='viridis', fmt='.2f', linewidths=.5)\n",
    "plt.title('Distribution of Content Categories by Day of Week (Normalized)', fontsize=16)\n",
    "plt.xlabel('Day of Week', fontsize=14)\n",
    "plt.ylabel('Category', fontsize=14)\n",
    "plt.tight_layout()\n",
    "plt.show()"
   ]
  },
  {
   "cell_type": "code",
   "execution_count": null,
   "metadata": {},
   "outputs": [],
   "source": [
    "# Average duration by category\n",
    "category_avg_duration = df.groupby('Category')['Duration (min)'].mean().sort_values(ascending=False)\n",
    "plt.figure(figsize=(14, 8))\n",
    "ax = sns.barplot(x=category_avg_duration.index, y=category_avg_duration.values, palette='viridis')\n",
    "plt.title('Average Video Duration by Content Category', fontsize=16)\n",
    "plt.xlabel('Category', fontsize=14)\n",
    "plt.ylabel('Average Duration (minutes)', fontsize=14)\n",
    "plt.xticks(rotation=45)\n",
    "\n",
    "# Add formatted duration labels\n",
    "for i, v in enumerate(category_avg_duration.values):\n",
    "    ax.text(i, v + 0.2, f\"{v:.2f}\", ha='center')\n",
    "\n",
    "plt.tight_layout()\n",
    "plt.show()"
   ]
  },
  {
   "cell_type": "markdown",
   "metadata": {},
   "source": [
    "## Key Content Creators Analysis"
   ]
  },
  {
   "cell_type": "code",
   "execution_count": null,
   "metadata": {},
   "outputs": [],
   "source": [
    "# Top 5 channels statistics\n",
    "top_5_channels = df['Channel Name'].value_counts().head(5).index.tolist()\n",
    "top_channels_df = df[df['Channel Name'].isin(top_5_channels)]\n",
    "\n",
    "# Average views comparison\n",
    "channel_avg_views = top_channels_df.groupby('Channel Name')['Views'].mean().sort_values(ascending=False)\n",
    "plt.figure(figsize=(12, 6))\n",
    "ax = sns.barplot(x=channel_avg_views.index, y=channel_avg_views.values, palette='viridis')\n",
    "plt.title('Average Views for Top 5 Channels', fontsize=16)\n",
    "plt.xlabel('Channel', fontsize=14)\n",
    "plt.ylabel('Average Views', fontsize=14)\n",
    "plt.xticks(rotation=45)\n",
    "plt.ticklabel_format(style='plain', axis='y')\n",
    "\n",
    "# Add formatted view count labels\n",
    "for i, v in enumerate(channel_avg_views.values):\n",
    "    ax.text(i, v + 100000, f\"{v:,.0f}\", ha='center')\n",
    "\n",
    "plt.tight_layout()\n",
    "plt.show()"
   ]
  },
  {
   "cell_type": "code",
   "execution_count": null,
   "metadata": {},
   "outputs": [],
   "source": [
    "# Distribution of top channels by day of week\n",
    "top_channel_days = pd.crosstab(top_channels_df['Channel Name'], top_channels_df['Day of Week'])\n",
    "top_channel_days_pct = top_channel_days.div(top_channel_days.sum(axis=1), axis=0)\n",
    "\n",
    "plt.figure(figsize=(14, 8))\n",
    "sns.heatmap(top_channel_days_pct, annot=True, cmap='viridis', fmt='.2f', linewidths=.5)\n",
    "plt.title('Distribution of Top 5 Channels by Day of Week (Normalized)', fontsize=16)\n",
    "plt.xlabel('Day of Week', fontsize=14)\n",
    "plt.ylabel('Channel', fontsize=14)\n",
    "plt.tight_layout()\n",
    "plt.show()"
   ]
  },
  {
   "cell_type": "markdown",
   "metadata": {},
   "source": [
    "## Strategic Insights"
   ]
  },
  {
   "cell_type": "code",
   "execution_count": null,
   "metadata": {},
   "outputs": [],
   "source": [
    "# Optimal duration by category (based on average views)\n",
    "duration_category_views = df.groupby(['Category', 'Duration Category'])['Views'].mean().reset_index()\n",
    "pivot_data = pd.pivot_table(\n",
    "    duration_category_views, \n",
    "    values='Views', \n",
    "    index='Category',\n",
    "    columns='Duration Category'\n",
    ").reindex(columns=duration_order)\n",
    "\n",
    "plt.figure(figsize=(16, 10))\n",
    "sns.heatmap(pivot_data, annot=True, cmap='viridis', fmt='.0f', linewidths=.5)\n",
    "plt.title('Average Views by Category and Duration', fontsize=16)\n",
    "plt.xlabel('Duration Category', fontsize=14)\n",
    "plt.ylabel('Content Category', fontsize=14)\n",
    "plt.tight_layout()\n",
    "plt.show()\n",
    "\n",
    "# Find the optimal duration category for each content category\n",
    "optimal_duration = pivot_data.idxmax(axis=1).to_frame('Optimal Duration')\n",
    "optimal_duration['Max Average Views'] = pivot_data.max(axis=1)\n",
    "print(\"Optimal Video Duration by Content Category:\")\n",
    "print(optimal_duration)"
   ]
  },
  {
   "cell_type": "code",
   "execution_count": null,
   "metadata": {},
   "outputs": [],
   "source": [
    "# Best publishing day by category (based on average views)\n",
    "day_category_views = df.groupby(['Category', 'Day of Week'])['Views'].mean().reset_index()\n",
    "day_pivot = pd.pivot_table(\n",
    "    day_category_views, \n",
    "    values='Views', \n",
    "    index='Category',\n",
    "    columns='Day of Week'\n",
    ").reindex(columns=day_order)\n",
    "\n",
    "plt.figure(figsize=(16, 10))\n",
    "sns.heatmap(day_pivot, annot=True, cmap='viridis', fmt='.0f', linewidths=.5)\n",
    "plt.title('Average Views by Category and Day of Week', fontsize=16)\n",
    "plt.xlabel('Day of Week', fontsize=14)\n",
    "plt.ylabel('Content Category', fontsize=14)\n",
    "plt.tight_layout()\n",
    "plt.show()\n",
    "\n",
    "# Find the optimal publishing day for each content category\n",
    "optimal_day = day_pivot.idxmax(axis=1).to_frame('Optimal Publishing Day')\n",
    "optimal_day['Max Average Views'] = day_pivot.max(axis=1)\n",
    "print(\"Optimal Publishing Day by Content Category:\")\n",
    "print(optimal_day)"
   ]
  },
  {
   "cell_type": "markdown",
   "metadata": {},
   "source": [
    "## Summary of Key Findings"
   ]
  },
  {
   "cell_type": "markdown",
   "metadata": {},
   "source": [
    "**1. Top Content Creators**\n",
    "- Lady Gaga leads with the most trending videos (35)\n",
    "- Trending Shorts (30) and JENNIE (23) follow closely\n",
    "- Prime Video and HYBE LABELS have 16 trending videos each\n",
    "\n",
    "**2. Content Trends**\n",
    "- Music content dominates the trending section\n",
    "- Popular keywords: \"official\" (501), \"video\" (353), and \"trailer\" (291)\n",
    "- Gaming content (especially Minecraft, Fortnite, and Roblox) remains popular\n",
    "- Movie and TV trailers form a significant portion of trending content\n",
    "\n",
    "**3. Publishing Patterns**\n",
    "- Thursday is the most effective day for videos to trend (404 videos)\n",
    "- Wednesday follows with 337 trending videos\n",
    "- Weekend posts (especially Saturday with only 109 videos) are less represented\n",
    "\n",
    "**4. Duration Insights**\n",
    "- Average video duration is 3:36 minutes (216 seconds)\n",
    "- Short-form content (1-3 minutes) tends to receive the highest average view counts\n",
    "- Slight negative correlation (-0.19) between video duration and view count\n",
    "\n",
    "**5. View Count Distribution**\n",
    "- Average trending video receives 3.57 million views\n",
    "- Median view count is 698,119 (indicating many viral outliers)\n",
    "- Most trending videos fall into the 500K-5M views range\n",
    "\n",
    "**6. Strategic Recommendations**\n",
    "- Optimize content length: Shorter videos between 1-5 minutes perform best overall\n",
    "- Timing matters: Mid-week publishing gives content the best chance of trending\n",
    "- Content categories: Music, gaming, and movie/TV content consistently trend\n",
    "- Each content category has an optimal duration and publishing day for maximum views"
   ]
  }
 ],
 "metadata": {
  "kernelspec": {
   "display_name": "base",
   "language": "python",
   "name": "python3"
  },
  "language_info": {
   "codemirror_mode": {
    "name": "ipython",
    "version": 3
   },
   "file_extension": ".py",
   "mimetype": "text/x-python",
   "name": "python",
   "nbconvert_exporter": "python",
   "pygments_lexer": "ipython3",
   "version": "3.11.7"
  }
 },
 "nbformat": 4,
 "nbformat_minor": 4
}
