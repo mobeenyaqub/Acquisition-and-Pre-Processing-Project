{
 "cells": [
  {
   "cell_type": "markdown",
   "id": "9d8c0280-0214-4b7b-a09a-8defc73289e8",
   "metadata": {},
   "source": [
    "# API Source"
   ]
  },
  {
   "cell_type": "markdown",
   "id": "336087d2-853d-4521-8840-bf42a10c06b0",
   "metadata": {},
   "source": [
    "https://rapidapi.com/ytjar/api/yt-api"
   ]
  },
  {
   "cell_type": "markdown",
   "id": "cba75449-c47f-4963-9483-b33a200e2ab5",
   "metadata": {},
   "source": [
    "# Install packages"
   ]
  },
  {
   "cell_type": "code",
   "execution_count": null,
   "id": "cdeddb23-5b4f-4651-b074-3769f47e1129",
   "metadata": {},
   "outputs": [],
   "source": [
    "!pip install requests"
   ]
  },
  {
   "cell_type": "markdown",
   "id": "630e4818-eca5-41ce-a33f-010f109b3250",
   "metadata": {},
   "source": [
    "# Import the libraries"
   ]
  },
  {
   "cell_type": "code",
   "execution_count": 1,
   "id": "47a2786e-a6c8-4132-8657-a470169ca76d",
   "metadata": {},
   "outputs": [],
   "source": [
    "import time\n",
    "import requests\n",
    "import pandas as pd\n",
    "from pprint import pprint"
   ]
  },
  {
   "cell_type": "markdown",
   "id": "98dda58d-cb09-45de-855e-1e03857d9811",
   "metadata": {},
   "source": [
    "# Check to see if Data.csv already exists or else create a new dataframe"
   ]
  },
  {
   "cell_type": "code",
   "execution_count": 3,
   "id": "7122756f-789d-4116-87b5-153b5075563e",
   "metadata": {},
   "outputs": [],
   "source": [
    "try:\n",
    "    df = pd.read_csv('Data.csv')\n",
    "except Exception as e:\n",
    "    df = pd.DataFrame(columns=[\"Type\", \"Channel Name\", \"Title\", \"Channel ID\", \"Views\", \"Publication Date\", \"Duration\"])"
   ]
  },
  {
   "cell_type": "markdown",
   "id": "a031d9a5-46ac-4c55-9e89-d0da7956d86d",
   "metadata": {},
   "source": [
    "# Dataframe first 5 rows (if any)"
   ]
  },
  {
   "cell_type": "code",
   "execution_count": 11,
   "id": "43e013b9-c50e-44fc-b86d-333ae1396f89",
   "metadata": {},
   "outputs": [
    {
     "data": {
      "text/html": [
       "<div>\n",
       "<style scoped>\n",
       "    .dataframe tbody tr th:only-of-type {\n",
       "        vertical-align: middle;\n",
       "    }\n",
       "\n",
       "    .dataframe tbody tr th {\n",
       "        vertical-align: top;\n",
       "    }\n",
       "\n",
       "    .dataframe thead th {\n",
       "        text-align: right;\n",
       "    }\n",
       "</style>\n",
       "<table border=\"1\" class=\"dataframe\">\n",
       "  <thead>\n",
       "    <tr style=\"text-align: right;\">\n",
       "      <th></th>\n",
       "      <th>Type</th>\n",
       "      <th>Channel Name</th>\n",
       "      <th>Title</th>\n",
       "      <th>Channel ID</th>\n",
       "      <th>Views</th>\n",
       "      <th>Publication Date</th>\n",
       "      <th>Duration</th>\n",
       "    </tr>\n",
       "  </thead>\n",
       "  <tbody>\n",
       "    <tr>\n",
       "      <th>0</th>\n",
       "      <td>video</td>\n",
       "      <td>Brian Weissman</td>\n",
       "      <td>Unlock Consistent Power in Disc Golf: Discover...</td>\n",
       "      <td>Unknown</td>\n",
       "      <td>5763</td>\n",
       "      <td>2025-02-12</td>\n",
       "      <td>436</td>\n",
       "    </tr>\n",
       "    <tr>\n",
       "      <th>1</th>\n",
       "      <td>video</td>\n",
       "      <td>Brian Weissman</td>\n",
       "      <td>Fix Your Pesky Back Foot  Disc Golf Throw</td>\n",
       "      <td>Unknown</td>\n",
       "      <td>36925</td>\n",
       "      <td>2025-02-12</td>\n",
       "      <td>923</td>\n",
       "    </tr>\n",
       "    <tr>\n",
       "      <th>2</th>\n",
       "      <td>video</td>\n",
       "      <td>Brian Weissman</td>\n",
       "      <td>X-Step Mastery  Disc Golf Form Evolution</td>\n",
       "      <td>Unknown</td>\n",
       "      <td>695</td>\n",
       "      <td>2025-02-24</td>\n",
       "      <td>330</td>\n",
       "    </tr>\n",
       "    <tr>\n",
       "      <th>3</th>\n",
       "      <td>video</td>\n",
       "      <td>Brian Weissman</td>\n",
       "      <td>INSANE Disc Golf Drills To Level Up Your Game</td>\n",
       "      <td>Unknown</td>\n",
       "      <td>597</td>\n",
       "      <td>2025-02-23</td>\n",
       "      <td>733</td>\n",
       "    </tr>\n",
       "    <tr>\n",
       "      <th>4</th>\n",
       "      <td>video</td>\n",
       "      <td>Brian Weissman</td>\n",
       "      <td>What's your favorite disc for long bombs?</td>\n",
       "      <td>Unknown</td>\n",
       "      <td>900</td>\n",
       "      <td>2025-02-22</td>\n",
       "      <td>960</td>\n",
       "    </tr>\n",
       "  </tbody>\n",
       "</table>\n",
       "</div>"
      ],
      "text/plain": [
       "    Type    Channel Name                                              Title  \\\n",
       "0  video  Brian Weissman  Unlock Consistent Power in Disc Golf: Discover...   \n",
       "1  video  Brian Weissman          Fix Your Pesky Back Foot  Disc Golf Throw   \n",
       "2  video  Brian Weissman           X-Step Mastery  Disc Golf Form Evolution   \n",
       "3  video  Brian Weissman      INSANE Disc Golf Drills To Level Up Your Game   \n",
       "4  video  Brian Weissman          What's your favorite disc for long bombs?   \n",
       "\n",
       "  Channel ID  Views Publication Date  Duration  \n",
       "0    Unknown   5763       2025-02-12       436  \n",
       "1    Unknown  36925       2025-02-12       923  \n",
       "2    Unknown    695       2025-02-24       330  \n",
       "3    Unknown    597       2025-02-23       733  \n",
       "4    Unknown    900       2025-02-22       960  "
      ]
     },
     "execution_count": 11,
     "metadata": {},
     "output_type": "execute_result"
    }
   ],
   "source": [
    "df.head()"
   ]
  },
  {
   "cell_type": "markdown",
   "id": "b71b8003-a198-44dd-9f30-f86eecab6993",
   "metadata": {},
   "source": [
    "# API call"
   ]
  },
  {
   "cell_type": "code",
   "execution_count": null,
   "id": "b4482c2c-3005-486c-b076-6bb624015cdd",
   "metadata": {},
   "outputs": [],
   "source": [
    "# using geo and type_ to extract various combinations of location and types\n",
    "def get_api_data(geo='US', type_='now'):\n",
    "    url = \"https://yt-api.p.rapidapi.com/trending\"\n",
    "    querystring = {\"geo\":geo,\"type\":type_}\n",
    "\n",
    "    headers = {\n",
    "        \"x-rapidapi-key\": \"70a934f756mshb7067f375e69142p15cd59jsnff61e7bc025c\",\n",
    "        \"x-rapidapi-host\": \"yt-api.p.rapidapi.com\"\n",
    "    }\n",
    "\n",
    "    response = requests.get(url, headers=headers, params=querystring).json()\n",
    "    return response['data']"
   ]
  },
  {
   "cell_type": "markdown",
   "id": "c5f619e4-74a2-4ea3-9004-c9c4f749d11a",
   "metadata": {},
   "source": [
    "# Function to extract the necessary data points"
   ]
  },
  {
   "cell_type": "code",
   "execution_count": null,
   "id": "8e9e1865-b1db-4049-98bd-91705e4138cd",
   "metadata": {},
   "outputs": [],
   "source": [
    "def get_data(data):\n",
    "    videos = []\n",
    "\n",
    "    for d in data:\n",
    "        if 'channelTitle' not in d:\n",
    "            data_process = d['data']\n",
    "            for dp in data_process:\n",
    "                try:\n",
    "                    channel_name = dp.get('channelTitle', d['title'])\n",
    "                    view_count = dp.get('viewCount', dp.get('viewCountText', ''))\n",
    "                    channel_id = dp.get('channelId', '')\n",
    "                    publish_date = dp.get('publishDate', '')\n",
    "                    duration = dp.get('lengthText', '')\n",
    "    \n",
    "                    videos.append([\n",
    "                        dp['type'],\n",
    "                        channel_name,\n",
    "                        dp['title'],\n",
    "                        channel_id,\n",
    "                        view_count,\n",
    "                        publish_date,\n",
    "                        duration\n",
    "                    ])\n",
    "                except KeyError as e:\n",
    "                    print(f\"KeyError: {e} in {dp}\")\n",
    "        else:\n",
    "            videos.append([\n",
    "                d['type'],\n",
    "                d['channelTitle'],\n",
    "                d['title'],\n",
    "                d['channelId'],\n",
    "                d['viewCount'],\n",
    "                d['publishDate'],\n",
    "                d['lengthText']\n",
    "            ])\n",
    "            \n",
    "    return videos"
   ]
  },
  {
   "cell_type": "markdown",
   "id": "61d34fb4-2abe-4236-9d0a-1ae15a9bf59c",
   "metadata": {},
   "source": [
    "# Make the function call and convert the list of lists to pandas dataframe"
   ]
  },
  {
   "cell_type": "code",
   "execution_count": null,
   "id": "ac7656f1-d369-4516-aee0-dcf88be65d32",
   "metadata": {},
   "outputs": [],
   "source": [
    "def get_fresh_data(data):\n",
    "    videos_data = get_data(data)\n",
    "    \n",
    "    return pd.DataFrame(videos_data, columns=[\"Type\", \"Channel Name\", \"Title\", \"Channel ID\", \"Views\", \"Publication Date\", \"Duration\"])"
   ]
  },
  {
   "cell_type": "markdown",
   "id": "587567be-2928-4c30-b180-743f555673ab",
   "metadata": {},
   "source": [
    "# Clean columns"
   ]
  },
  {
   "cell_type": "code",
   "execution_count": null,
   "id": "36cb413a-9f55-40b4-bca9-676344f7fb22",
   "metadata": {},
   "outputs": [],
   "source": [
    "import pandas as pd\n",
    "\n",
    "def clean_columns(df):\n",
    "    # Clean the 'Views' column\n",
    "    def clean_views(view):\n",
    "        if pd.isna(view):\n",
    "            return 0\n",
    "        view = str(view).replace('views', '').strip()\n",
    "        if 'B' in view:\n",
    "            return int(float(view.replace('B', '')) * 1000000000)\n",
    "        elif 'M' in view:\n",
    "            return int(float(view.replace('M', '')) * 1000000)\n",
    "        elif 'K' in view:\n",
    "            return int(float(view.replace('K', '')) * 1000)\n",
    "        else:\n",
    "            return int(view) if view.isdigit() else 0\n",
    "\n",
    "    df['Views'] = df['Views'].apply(clean_views)\n",
    "\n",
    "    # Convert 'Publication Date' to a consistent format\n",
    "    df['Publication Date'] = pd.to_datetime(df['Publication Date']).dt.strftime('%Y-%m-%d')\n",
    "\n",
    "    # Clean the 'Duration' column\n",
    "    def clean_duration(duration):\n",
    "        # if pd.isna(duration):\n",
    "        #     return 0\n",
    "        duration = str(duration).replace('video', '').strip()\n",
    "        parts = duration.split(':')\n",
    "        if len(parts) == 2:  # MM:SS\n",
    "            minutes, seconds = map(int, parts)\n",
    "            return minutes * 60 + seconds\n",
    "        elif len(parts) == 3:  # HH:MM:SS\n",
    "            hours, minutes, seconds = map(int, parts)\n",
    "            return hours * 3600 + minutes * 60 + seconds\n",
    "        else:\n",
    "            return duration if duration != 'SHORTS' else 0\n",
    "\n",
    "    df['Duration'] = df['Duration'].apply(clean_duration)\n",
    "\n",
    "    # Fill NaN cells\n",
    "    df['Channel Name'] = df['Channel Name'].fillna('Unknown')\n",
    "    df['Channel ID'] = df['Channel ID'].fillna('Unknown')\n",
    "    df['Views'] = df['Views'].fillna(0)\n",
    "    df['Duration'] = df['Duration'].fillna(0)\n",
    "\n",
    "    return df"
   ]
  },
  {
   "cell_type": "markdown",
   "id": "8ef5acf5-192f-4d44-8a3b-c59c15155b9b",
   "metadata": {},
   "source": [
    "# Get the API response"
   ]
  },
  {
   "cell_type": "code",
   "execution_count": null,
   "id": "2a59a83c-9ed0-4517-9a64-83e748c33b6d",
   "metadata": {},
   "outputs": [],
   "source": [
    "data = get_api_data()"
   ]
  },
  {
   "cell_type": "markdown",
   "id": "a0ae57bc-672b-4d99-8601-402636f3c4d5",
   "metadata": {},
   "source": [
    "# First data point overview"
   ]
  },
  {
   "cell_type": "code",
   "execution_count": null,
   "id": "faec364e-4aac-4ba3-965b-9524cf728dee",
   "metadata": {},
   "outputs": [],
   "source": [
    "data[0]"
   ]
  },
  {
   "cell_type": "markdown",
   "id": "599cedc4-e29a-4f8b-973b-c8f471ea4dcf",
   "metadata": {},
   "source": [
    "# Process the data"
   ]
  },
  {
   "cell_type": "code",
   "execution_count": null,
   "id": "420c08cd-763d-43ff-96c8-5515f98e7619",
   "metadata": {},
   "outputs": [],
   "source": [
    "df_new = get_fresh_data(data)"
   ]
  },
  {
   "cell_type": "markdown",
   "id": "feb8f606-715f-4bb0-a714-1f003da4ee81",
   "metadata": {},
   "source": [
    "\n",
    "# Concatenate the two dataframes"
   ]
  },
  {
   "cell_type": "code",
   "execution_count": null,
   "id": "d86d2069-8358-45c6-88a9-4d7f76494c57",
   "metadata": {},
   "outputs": [],
   "source": [
    "df = pd.concat([df, df_new], ignore_index=True)"
   ]
  },
  {
   "cell_type": "markdown",
   "id": "e084c176-b717-4fa4-9e08-55f1768e721f",
   "metadata": {},
   "source": [
    "# Remove duplicates"
   ]
  },
  {
   "cell_type": "code",
   "execution_count": null,
   "id": "c7b1ccda-77af-4d28-a0c7-20daf864a41d",
   "metadata": {},
   "outputs": [],
   "source": [
    "print(f'Original df size: {len(df)}')\n",
    "df = df.drop_duplicates()\n",
    "print(f'New df size: {len(df)}')"
   ]
  },
  {
   "cell_type": "markdown",
   "id": "8b11e442-f2a7-4e68-a9fd-c5129a2a394a",
   "metadata": {},
   "source": [
    "# Data overview"
   ]
  },
  {
   "cell_type": "code",
   "execution_count": null,
   "id": "484dcdaf-3a54-4bfd-af54-118268d5c31d",
   "metadata": {},
   "outputs": [],
   "source": [
    "df"
   ]
  },
  {
   "cell_type": "markdown",
   "id": "aa529aca-cbe3-413e-a239-4eafa5ea2446",
   "metadata": {},
   "source": [
    "# Clean dataframe"
   ]
  },
  {
   "cell_type": "code",
   "execution_count": null,
   "id": "0a60ee4d-6bf9-4795-91f9-3cc66c895693",
   "metadata": {},
   "outputs": [],
   "source": [
    "clean_df = clean_columns(df)"
   ]
  },
  {
   "cell_type": "code",
   "execution_count": null,
   "id": "fd65ee60-3bb4-422d-af0f-50c4fedb7bf9",
   "metadata": {},
   "outputs": [],
   "source": [
    "clean_df"
   ]
  },
  {
   "cell_type": "markdown",
   "id": "8a1efffd-b5ef-43a9-a922-6d06cf5ba508",
   "metadata": {},
   "source": [
    "# Save the df to Data.csv"
   ]
  },
  {
   "cell_type": "code",
   "execution_count": null,
   "id": "333bb697-8369-4545-b677-cf75f1367b88",
   "metadata": {},
   "outputs": [],
   "source": [
    "clean_df.to_csv('Data.csv', index=False)"
   ]
  },
  {
   "cell_type": "markdown",
   "id": "727e13fd-49a5-4698-9a04-2d2254970d21",
   "metadata": {},
   "source": [
    "# Periodic run"
   ]
  },
  {
   "cell_type": "markdown",
   "id": "25883ee6-01e4-445e-81c2-74add6e3e429",
   "metadata": {},
   "source": [
    "##### As the monthly limit of the API is 300 requests and trending videos often tend to stay on YouTube for atleast 24 hours, but to be safe we will be making the API call every 12 hours (for cloud/server)"
   ]
  },
  {
   "cell_type": "code",
   "execution_count": null,
   "id": "371372ed-7df8-4674-8782-d3c39fb2700b",
   "metadata": {},
   "outputs": [],
   "source": [
    "def periodic_run(df):\n",
    "    # looping over different combinations of geo and types to extract worldwide data\n",
    "    geo = ['US', 'GB', 'AU'] # 'IN', 'JP', 'SA', 'RU'\n",
    "    types = ['music', 'games', 'movies'] # 'now'\n",
    "\n",
    "    # 3 * 3 = 9 API calls\n",
    "    # 9 * 30 days = 270 calls per month (limit is 300)\n",
    "\n",
    "    # loop over every location\n",
    "    for g in geo:\n",
    "        # for every location process all the types\n",
    "        for typ in types:\n",
    "            print(f'Geo: {g} - type: {typ}\\n')\n",
    "            # get the API response\n",
    "            data = get_api_data(g, typ)\n",
    "            \n",
    "            # process the data\n",
    "            df_new = get_fresh_data(data)\n",
    "            \n",
    "            # merge the dataframes\n",
    "            df = pd.concat([df, df_new], ignore_index=True)\n",
    "            \n",
    "            # remove duplicates (if any)\n",
    "            df = df.drop_duplicates()\n",
    "            \n",
    "            # clean the data\n",
    "            clean_df = clean_columns(df)\n",
    "            \n",
    "    # save the updated dataframe\n",
    "    clean_df.to_csv('Data.csv', index=False)\n",
    "\n",
    "    print(f'Data.csv updated and saved - df size: {clean_df.shape}')    \n",
    "    return clean_df"
   ]
  },
  {
   "cell_type": "code",
   "execution_count": null,
   "id": "467891f8-0d93-42fe-9868-e32f31b4124b",
   "metadata": {},
   "outputs": [],
   "source": [
    "# run this cell to call the API every 24 hours\n",
    "clean_df = ''\n",
    "\n",
    "while True:\n",
    "# try to make the request\n",
    "# in case of an error the program won't crash and retry\n",
    "    try:\n",
    "        df = periodic_run(df)\n",
    "        \n",
    "        # sleep for 24 hours\n",
    "        print('Sleeping for 24 hours')\n",
    "        time.sleep(24 * 60 * 60)\n",
    "        df.head()\n",
    "    except:\n",
    "        continue"
   ]
  },
  {
   "cell_type": "code",
   "execution_count": null,
   "id": "379c5263-a931-4c89-adda-648425eb7986",
   "metadata": {},
   "outputs": [],
   "source": [
    "clean_df.tail()"
   ]
  },
  {
   "cell_type": "code",
   "execution_count": null,
   "id": "7588b000-f720-4106-9ed0-26eeef7ca7f7",
   "metadata": {},
   "outputs": [],
   "source": []
  }
 ],
 "metadata": {
  "kernelspec": {
   "display_name": "Python [conda env:base] *",
   "language": "python",
   "name": "conda-base-py"
  },
  "language_info": {
   "codemirror_mode": {
    "name": "ipython",
    "version": 3
   },
   "file_extension": ".py",
   "mimetype": "text/x-python",
   "name": "python",
   "nbconvert_exporter": "python",
   "pygments_lexer": "ipython3",
   "version": "3.12.7"
  }
 },
 "nbformat": 4,
 "nbformat_minor": 5
}
